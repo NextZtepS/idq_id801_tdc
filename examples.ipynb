{
 "cells": [
  {
   "cell_type": "markdown",
   "metadata": {},
   "source": [
    "This is example is designed to run when some input is connected to channel 3 of the ID801: for example, a function generator at 1.5kHz is used."
   ]
  },
  {
   "cell_type": "code",
   "execution_count": 1,
   "metadata": {},
   "outputs": [],
   "source": [
    "from id801 import ID801, FileFormat\n",
    "import numpy as np\n",
    "import pandas as pd\n",
    "import matplotlib.pyplot as plt"
   ]
  },
  {
   "cell_type": "code",
   "execution_count": 2,
   "metadata": {},
   "outputs": [],
   "source": [
    "id801 = ID801()"
   ]
  },
  {
   "cell_type": "code",
   "execution_count": 3,
   "metadata": {},
   "outputs": [
    {
     "name": "stdout",
     "output_type": "stream",
     "text": [
      "TDC unit: 8.09552722121028e-11 s\n"
     ]
    }
   ],
   "source": [
    "TDC_UNIT = id801.get_timebase()\n",
    "print(f\"TDC unit: {TDC_UNIT} s\")"
   ]
  },
  {
   "cell_type": "markdown",
   "metadata": {},
   "source": [
    "## Storing in .txt file"
   ]
  },
  {
   "cell_type": "code",
   "execution_count": 4,
   "metadata": {},
   "outputs": [
    {
     "name": "stdout",
     "output_type": "stream",
     "text": [
      "Data Lost: 0\n",
      "Data Lost: 0\n"
     ]
    }
   ],
   "source": [
    "id801.record_real_timestamps_to_file(\"real_timestamps_1.txt\", FileFormat.FORMAT_ASCII, 100)\n",
    "id801.record_real_timestamps_to_file(\"real_timestamps_2.txt\", FileFormat.FORMAT_ASCII, 100)"
   ]
  },
  {
   "cell_type": "code",
   "execution_count": 5,
   "metadata": {},
   "outputs": [
    {
     "data": {
      "text/html": [
       "<div>\n",
       "<style scoped>\n",
       "    .dataframe tbody tr th:only-of-type {\n",
       "        vertical-align: middle;\n",
       "    }\n",
       "\n",
       "    .dataframe tbody tr th {\n",
       "        vertical-align: top;\n",
       "    }\n",
       "\n",
       "    .dataframe thead th {\n",
       "        text-align: right;\n",
       "    }\n",
       "</style>\n",
       "<table border=\"1\" class=\"dataframe\">\n",
       "  <thead>\n",
       "    <tr style=\"text-align: right;\">\n",
       "      <th></th>\n",
       "      <th>timestamp</th>\n",
       "      <th>channel</th>\n",
       "    </tr>\n",
       "  </thead>\n",
       "  <tbody>\n",
       "    <tr>\n",
       "      <th>0</th>\n",
       "      <td>319498864</td>\n",
       "      <td>3</td>\n",
       "    </tr>\n",
       "    <tr>\n",
       "      <th>1</th>\n",
       "      <td>320116462</td>\n",
       "      <td>3</td>\n",
       "    </tr>\n",
       "    <tr>\n",
       "      <th>2</th>\n",
       "      <td>320734077</td>\n",
       "      <td>3</td>\n",
       "    </tr>\n",
       "    <tr>\n",
       "      <th>3</th>\n",
       "      <td>321351690</td>\n",
       "      <td>3</td>\n",
       "    </tr>\n",
       "    <tr>\n",
       "      <th>4</th>\n",
       "      <td>321969284</td>\n",
       "      <td>3</td>\n",
       "    </tr>\n",
       "    <tr>\n",
       "      <th>...</th>\n",
       "      <td>...</td>\n",
       "      <td>...</td>\n",
       "    </tr>\n",
       "    <tr>\n",
       "      <th>1959</th>\n",
       "      <td>1529389365</td>\n",
       "      <td>3</td>\n",
       "    </tr>\n",
       "    <tr>\n",
       "      <th>1960</th>\n",
       "      <td>1530006963</td>\n",
       "      <td>3</td>\n",
       "    </tr>\n",
       "    <tr>\n",
       "      <th>1961</th>\n",
       "      <td>1530624578</td>\n",
       "      <td>3</td>\n",
       "    </tr>\n",
       "    <tr>\n",
       "      <th>1962</th>\n",
       "      <td>1531242179</td>\n",
       "      <td>3</td>\n",
       "    </tr>\n",
       "    <tr>\n",
       "      <th>1963</th>\n",
       "      <td>1531859796</td>\n",
       "      <td>3</td>\n",
       "    </tr>\n",
       "  </tbody>\n",
       "</table>\n",
       "<p>1964 rows × 2 columns</p>\n",
       "</div>"
      ],
      "text/plain": [
       "       timestamp  channel\n",
       "0      319498864        3\n",
       "1      320116462        3\n",
       "2      320734077        3\n",
       "3      321351690        3\n",
       "4      321969284        3\n",
       "...          ...      ...\n",
       "1959  1529389365        3\n",
       "1960  1530006963        3\n",
       "1961  1530624578        3\n",
       "1962  1531242179        3\n",
       "1963  1531859796        3\n",
       "\n",
       "[1964 rows x 2 columns]"
      ]
     },
     "execution_count": 5,
     "metadata": {},
     "output_type": "execute_result"
    }
   ],
   "source": [
    "df1 = pd.read_csv(\"real_timestamps_1.txt\", sep=\",\", names=[\"timestamp\", \"channel\"])\n",
    "df1"
   ]
  },
  {
   "cell_type": "code",
   "execution_count": 6,
   "metadata": {},
   "outputs": [
    {
     "data": {
      "text/html": [
       "<div>\n",
       "<style scoped>\n",
       "    .dataframe tbody tr th:only-of-type {\n",
       "        vertical-align: middle;\n",
       "    }\n",
       "\n",
       "    .dataframe tbody tr th {\n",
       "        vertical-align: top;\n",
       "    }\n",
       "\n",
       "    .dataframe thead th {\n",
       "        text-align: right;\n",
       "    }\n",
       "</style>\n",
       "<table border=\"1\" class=\"dataframe\">\n",
       "  <thead>\n",
       "    <tr style=\"text-align: right;\">\n",
       "      <th></th>\n",
       "      <th>timestamp</th>\n",
       "      <th>channel</th>\n",
       "    </tr>\n",
       "  </thead>\n",
       "  <tbody>\n",
       "    <tr>\n",
       "      <th>0</th>\n",
       "      <td>1532477390</td>\n",
       "      <td>3</td>\n",
       "    </tr>\n",
       "    <tr>\n",
       "      <th>1</th>\n",
       "      <td>1533095003</td>\n",
       "      <td>3</td>\n",
       "    </tr>\n",
       "    <tr>\n",
       "      <th>2</th>\n",
       "      <td>1533712599</td>\n",
       "      <td>3</td>\n",
       "    </tr>\n",
       "    <tr>\n",
       "      <th>3</th>\n",
       "      <td>1534330212</td>\n",
       "      <td>3</td>\n",
       "    </tr>\n",
       "    <tr>\n",
       "      <th>4</th>\n",
       "      <td>1534947814</td>\n",
       "      <td>3</td>\n",
       "    </tr>\n",
       "    <tr>\n",
       "      <th>...</th>\n",
       "      <td>...</td>\n",
       "      <td>...</td>\n",
       "    </tr>\n",
       "    <tr>\n",
       "      <th>1958</th>\n",
       "      <td>2741750289</td>\n",
       "      <td>3</td>\n",
       "    </tr>\n",
       "    <tr>\n",
       "      <th>1959</th>\n",
       "      <td>2742367903</td>\n",
       "      <td>3</td>\n",
       "    </tr>\n",
       "    <tr>\n",
       "      <th>1960</th>\n",
       "      <td>2742985516</td>\n",
       "      <td>3</td>\n",
       "    </tr>\n",
       "    <tr>\n",
       "      <th>1961</th>\n",
       "      <td>2743603120</td>\n",
       "      <td>3</td>\n",
       "    </tr>\n",
       "    <tr>\n",
       "      <th>1962</th>\n",
       "      <td>2744220718</td>\n",
       "      <td>3</td>\n",
       "    </tr>\n",
       "  </tbody>\n",
       "</table>\n",
       "<p>1963 rows × 2 columns</p>\n",
       "</div>"
      ],
      "text/plain": [
       "       timestamp  channel\n",
       "0     1532477390        3\n",
       "1     1533095003        3\n",
       "2     1533712599        3\n",
       "3     1534330212        3\n",
       "4     1534947814        3\n",
       "...          ...      ...\n",
       "1958  2741750289        3\n",
       "1959  2742367903        3\n",
       "1960  2742985516        3\n",
       "1961  2743603120        3\n",
       "1962  2744220718        3\n",
       "\n",
       "[1963 rows x 2 columns]"
      ]
     },
     "execution_count": 6,
     "metadata": {},
     "output_type": "execute_result"
    }
   ],
   "source": [
    "df2 = pd.read_csv(\"real_timestamps_2.txt\", sep=\",\", names=[\"timestamp\", \"channel\"])\n",
    "df2"
   ]
  },
  {
   "cell_type": "code",
   "execution_count": 7,
   "metadata": {},
   "outputs": [
    {
     "data": {
      "text/plain": [
       "1532477390"
      ]
     },
     "execution_count": 7,
     "metadata": {},
     "output_type": "execute_result"
    }
   ],
   "source": [
    "df2[\"timestamp\"][0]"
   ]
  },
  {
   "cell_type": "code",
   "execution_count": 8,
   "metadata": {},
   "outputs": [
    {
     "name": "stdout",
     "output_type": "stream",
     "text": [
      "Time between signals: 4.999781e-05\n",
      "Signal frequency: 2.000087e+04\n",
      "Time between files: 4.999749e-05\n",
      "Ratio of time between files and time between signals: 0.9999935232950884\n"
     ]
    }
   ],
   "source": [
    "t_signal = (df1[\"timestamp\"][1] - df1[\"timestamp\"][0]) * TDC_UNIT\n",
    "t_betweenFile = (df2[\"timestamp\"][0] - df1[\"timestamp\"][len(df1)-1]) * TDC_UNIT\n",
    "\n",
    "print(f\"Time between signals: {t_signal:e}\")\n",
    "print(f\"Signal frequency: {1/t_signal:e}\")\n",
    "print(f\"Time between files: {t_betweenFile:e}\")\n",
    "print(f\"Ratio of time between files and time between signals: {t_betweenFile/t_signal}\")"
   ]
  },
  {
   "cell_type": "markdown",
   "metadata": {},
   "source": [
    "## Storing in NumPy array"
   ]
  },
  {
   "cell_type": "code",
   "execution_count": 9,
   "metadata": {},
   "outputs": [
    {
     "name": "stdout",
     "output_type": "stream",
     "text": [
      "Valid Timestamps: 1964\n",
      "Valid Timestamps: 2086\n"
     ]
    }
   ],
   "source": [
    "timestamps_1, channels_1 = id801.get_timestamps(100)\n",
    "timestamps_2, channels_2 = id801.get_timestamps(100)\n",
    "\n",
    "timestamps_1 = timestamps_1[np.where(channels_1 == 2)]\n",
    "timestamps_2 = timestamps_2[np.where(channels_2 == 2)]"
   ]
  },
  {
   "cell_type": "code",
   "execution_count": 10,
   "metadata": {},
   "outputs": [
    {
     "name": "stdout",
     "output_type": "stream",
     "text": [
      "Time between signals: 4.999870e-05\n",
      "Signal frequency: 2.000052e+04\n",
      "Time between files: 4.999765e-05\n",
      "Ratio of time between files and time between signals: 0.9999789510839382\n"
     ]
    }
   ],
   "source": [
    "t_signal = (timestamps_1[1] - timestamps_1[0]) * TDC_UNIT\n",
    "t_betweenFile = (timestamps_2[0] - timestamps_1[len(timestamps_1)-1]) * TDC_UNIT\n",
    "\n",
    "print(f\"Time between signals: {t_signal:e}\")\n",
    "print(f\"Signal frequency: {1/t_signal:e}\")\n",
    "print(f\"Time between files: {t_betweenFile:e}\")\n",
    "print(f\"Ratio of time between files and time between signals: {t_betweenFile/t_signal}\")"
   ]
  },
  {
   "cell_type": "markdown",
   "metadata": {},
   "source": [
    "## Fill in NumPy array"
   ]
  },
  {
   "cell_type": "code",
   "execution_count": 11,
   "metadata": {},
   "outputs": [
    {
     "name": "stdout",
     "output_type": "stream",
     "text": [
      "Valid Timestamps: 1964\n",
      "Valid Timestamps: 1963\n"
     ]
    }
   ],
   "source": [
    "buffer_size = 1_000_000\n",
    "\n",
    "np_timestamps_1 = np.ndarray(buffer_size, dtype=np.int64)\n",
    "np_channels_1 = np.ndarray(buffer_size, dtype=np.int8)\n",
    "\n",
    "np_timestamps_2 = np.ndarray(buffer_size, dtype=np.int64)\n",
    "np_channels_2 = np.ndarray(buffer_size, dtype=np.int8)\n",
    "\n",
    "valid_1 = id801.fill_array_with_timestamps(np_timestamps_1, np_channels_1, 100)\n",
    "valid_2 = id801.fill_array_with_timestamps(np_timestamps_2, np_channels_2, 100)\n",
    "\n",
    "np_channels_1 = np_channels_1[:valid_1]\n",
    "np_timestamps_1 = np_timestamps_1[:valid_1][np.where(np_channels_1 == 2)]\n",
    "\n",
    "np_channels_2 = np_channels_2[:valid_2]\n",
    "np_timestamps_2 = np_timestamps_2[:valid_2][np.where(np_channels_2 == 2)]"
   ]
  },
  {
   "cell_type": "code",
   "execution_count": 12,
   "metadata": {},
   "outputs": [
    {
     "name": "stdout",
     "output_type": "stream",
     "text": [
      "Time between signals: 4.999895e-05\n",
      "Signal frequency: 2.000042e+04\n",
      "Time between files: 4.999830e-05\n",
      "Ratio of time between files and time between signals: 0.999987046883804\n"
     ]
    }
   ],
   "source": [
    "t_signal = (np_timestamps_1[1] - np_timestamps_1[0]) * TDC_UNIT\n",
    "t_betweenFile = (np_timestamps_2[0] - np_timestamps_1[len(np_timestamps_1)-1]) * TDC_UNIT\n",
    "\n",
    "print(f\"Time between signals: {t_signal:e}\")\n",
    "print(f\"Signal frequency: {1/t_signal:e}\")\n",
    "print(f\"Time between files: {t_betweenFile:e}\")\n",
    "print(f\"Ratio of time between files and time between signals: {t_betweenFile/t_signal}\")"
   ]
  },
  {
   "cell_type": "markdown",
   "metadata": {},
   "source": [
    "## Coincidence"
   ]
  },
  {
   "cell_type": "code",
   "execution_count": 13,
   "metadata": {},
   "outputs": [
    {
     "name": "stdout",
     "output_type": "stream",
     "text": [
      "[0, 0, 2000, 0, 0, 0, 0, 0, 0, 0, 0, 0, 0, 0, 0, 0, 0, 0, 0]\n",
      "13\n"
     ]
    }
   ],
   "source": [
    "id801.switch_termination(False)\n",
    "id801.set_coincidence_window(100)\n",
    "id801.set_exposure_time(100)\n",
    "data, labels, updates = id801.get_last_coinc_counters(100, 500)\n",
    "print(data)\n",
    "print(updates)"
   ]
  },
  {
   "cell_type": "code",
   "execution_count": 14,
   "metadata": {},
   "outputs": [
    {
     "data": {
      "image/png": "[encoded data removed]",
      "text/plain": [
       "<Figure size 1368x432 with 1 Axes>"
      ]
     },
     "metadata": {
      "needs_background": "light"
     },
     "output_type": "display_data"
    }
   ],
   "source": [
    "fig = plt.figure(figsize=(19, 6))\n",
    "plt.bar(labels, data)\n",
    "plt.xlabel('Channel Number')\n",
    "plt.ylabel('Count')\n",
    "plt.title('Bar Plot of Data')\n",
    "plt.show()"
   ]
  }
 ],
 "metadata": {
  "kernelspec": {
   "display_name": "Python 3 (ipykernel)",
   "language": "python",
   "name": "python3"
  },
  "language_info": {
   "codemirror_mode": {
    "name": "ipython",
    "version": 3
   },
   "file_extension": ".py",
   "mimetype": "text/x-python",
   "name": "python",
   "nbconvert_exporter": "python",
   "pygments_lexer": "ipython3",
   "version": "3.11.6"
  }
 },
 "nbformat": 4,
 "nbformat_minor": 4
}
